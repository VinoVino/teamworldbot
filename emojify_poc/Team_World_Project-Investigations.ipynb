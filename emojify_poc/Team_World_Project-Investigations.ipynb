{
 "cells": [
  {
   "cell_type": "markdown",
   "metadata": {
    "deletable": true,
    "editable": true
   },
   "source": [
    "# Team World - Exploring Project Ideas in Python"
   ]
  },
  {
   "cell_type": "markdown",
   "metadata": {
    "deletable": true,
    "editable": true
   },
   "source": [
    "## Idea I :  Text to Speech (TTS) in Slack"
   ]
  },
  {
   "cell_type": "markdown",
   "metadata": {
    "deletable": true,
    "editable": true
   },
   "source": [
    "### Using google TTS - https://pypi.org/project/gTTS/"
   ]
  },
  {
   "cell_type": "code",
   "execution_count": 1,
   "metadata": {
    "collapsed": false,
    "deletable": true,
    "editable": true
   },
   "outputs": [
    {
     "data": {
      "text/plain": [
       "0"
      ]
     },
     "execution_count": 1,
     "metadata": {},
     "output_type": "execute_result"
    }
   ],
   "source": [
    "from gtts import gTTS\n",
    "import os\n",
    "\n",
    "tts = gTTS(text=\"This is the pc speaking\", lang='en')\n",
    "tts.save(\"pcvoice.mp3\")\n",
    "# to start the file from python\n",
    "os.system(\"open pcvoice.mp3\")\n",
    "\n",
    "# For windows machine:\n",
    "#from win32com.client import Dispatch\n",
    "#speak = Dispath(\"SAPI.SPVoice\")\n",
    "#speak.Speak(\"Ciao\")"
   ]
  },
  {
   "cell_type": "markdown",
   "metadata": {
    "deletable": true,
    "editable": true
   },
   "source": [
    "### Using Bash Say"
   ]
  },
  {
   "cell_type": "code",
   "execution_count": 2,
   "metadata": {
    "collapsed": false,
    "deletable": true,
    "editable": true
   },
   "outputs": [
    {
     "data": {
      "text/plain": [
       "0"
      ]
     },
     "execution_count": 2,
     "metadata": {},
     "output_type": "execute_result"
    }
   ],
   "source": [
    "os.system(\"say hiyahhh karate chop\")\n",
    "\n",
    "# no equivalent for Microsoft?"
   ]
  },
  {
   "cell_type": "markdown",
   "metadata": {
    "deletable": true,
    "editable": true
   },
   "source": [
    "### Using pyttsx - https://pypi.org/project/pyttsx3/"
   ]
  },
  {
   "cell_type": "code",
   "execution_count": 3,
   "metadata": {
    "collapsed": false,
    "deletable": true,
    "editable": true
   },
   "outputs": [],
   "source": [
    "# import pyttsx\n",
    "# engine = pyttsx.init()\n",
    "# engine.say(\"Forrrgggget about it\")\n",
    "# engine.runAndWait() \n",
    "\n",
    "# Can only run once and then can't shut it down when using python2.7 and pyttsx?\n",
    "# pyttsx3- Can't get to work with current setup"
   ]
  },
  {
   "cell_type": "markdown",
   "metadata": {
    "collapsed": true,
    "deletable": true,
    "editable": true
   },
   "source": []
  },
  {
   "cell_type": "markdown",
   "metadata": {
    "collapsed": true,
    "deletable": true,
    "editable": true
   },
   "source": [
    "## Idea 2: Translation in Slack - Translate from Englisth to Other Languages using Python Translate Modules - https://pypi.org/project/googletrans/"
   ]
  },
  {
   "cell_type": "code",
   "execution_count": 3,
   "metadata": {
    "collapsed": false,
    "deletable": true,
    "editable": true
   },
   "outputs": [
    {
     "name": "stdout",
     "output_type": "stream",
     "text": [
      "Translated(src=ko, dest=en, text=Good morning., pronunciation=None, extra_data=\"{'possible...\")\n"
     ]
    }
   ],
   "source": [
    "from googletrans import Translator\n",
    "translator = Translator()\n",
    "print translator.translate('안녕하세요.')"
   ]
  },
  {
   "cell_type": "code",
   "execution_count": null,
   "metadata": {
    "collapsed": true,
    "deletable": true,
    "editable": true
   },
   "outputs": [],
   "source": [
    ""
   ]
  },
  {
   "cell_type": "markdown",
   "metadata": {
    "deletable": true,
    "editable": true
   },
   "source": [
    "## Idea 3: Traslate text to Emoji Expression"
   ]
  },
  {
   "cell_type": "code",
   "execution_count": 6,
   "metadata": {
    "collapsed": false,
    "deletable": true,
    "editable": true
   },
   "outputs": [
    {
     "name": "stdout",
     "output_type": "stream",
     "text": [
      "👁 ❤ 🚲 more than 🍻 blah\n"
     ]
    }
   ],
   "source": [
    "import emoji\n",
    "translate_dict ={'I': ':eye:', 'love': ':heart:', 'bikes': ':bike:', 'beer':':beers:'}\n",
    "\n",
    "text_to_translate = \"I love bikes more than beer blah\"\n",
    "text_to_translate= text_to_translate.split(\" \")\n",
    "\n",
    "translation = []\n",
    "for word in text_to_translate:\n",
    "    if word in translate_dict:\n",
    "        translation.append(translate_dict[word])\n",
    "    else:\n",
    "        translation.append(word)\n",
    "\n",
    "#joined = ' '.join(translation)\n",
    "for word in translation:\n",
    "    print(emoji.emojize(word, use_aliases=True)),"
   ]
  },
  {
   "cell_type": "markdown",
   "metadata": {
    "collapsed": true,
    "deletable": true,
    "editable": true
   },
   "source": [
    "## Idea 4: Emoji Encryption- Translation"
   ]
  },
  {
   "cell_type": "markdown",
   "metadata": {},
   "source": [
    "## Idea 5: Encyrption-Decryption -Ceasar Cypher"
   ]
  },
  {
   "cell_type": "code",
   "execution_count": null,
   "metadata": {
    "collapsed": true
   },
   "outputs": [],
   "source": [
    ""
   ]
  }
 ],
 "metadata": {
  "kernelspec": {
   "display_name": "Python 2",
   "language": "python",
   "name": "python2"
  },
  "language_info": {
   "codemirror_mode": {
    "name": "ipython",
    "version": 2.0
   },
   "file_extension": ".py",
   "mimetype": "text/x-python",
   "name": "python",
   "nbconvert_exporter": "python",
   "pygments_lexer": "ipython2",
   "version": "2.7.10"
  },
  "toc": {
   "base_numbering": 1.0,
   "nav_menu": {},
   "number_sections": true,
   "sideBar": true,
   "skip_h1_title": false,
   "title_cell": "Table of Contents",
   "title_sidebar": "Contents",
   "toc_cell": false,
   "toc_position": {},
   "toc_section_display": true,
   "toc_window_display": false
  }
 },
 "nbformat": 4,
 "nbformat_minor": 0
}